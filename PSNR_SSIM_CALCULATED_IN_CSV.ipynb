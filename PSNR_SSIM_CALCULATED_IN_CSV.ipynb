{
  "nbformat": 4,
  "nbformat_minor": 0,
  "metadata": {
    "colab": {
      "name": "PSNR_SSIM_CALCULATED_IN_CSV.ipynb",
      "provenance": []
    },
    "kernelspec": {
      "name": "python3",
      "display_name": "Python 3"
    }
  },
  "cells": [
    {
      "cell_type": "code",
      "metadata": {
        "id": "hIjLMNEMucIE",
        "colab_type": "code",
        "colab": {
          "base_uri": "https://localhost:8080/",
          "height": 125
        },
        "outputId": "3f0c8d01-86a2-48da-cf19-74b7795ab190"
      },
      "source": [
        "!git clone https://github.com/niazwazir/PSNR_AND_SSIM_DIRECT_CALCULATE_AND_PUT_IN_CSV_FILE.git"
      ],
      "execution_count": 1,
      "outputs": [
        {
          "output_type": "stream",
          "text": [
            "Cloning into 'PSNR_AND_SSIM_DIRECT_CALCULATE_AND_PUT_IN_CSV_FILE'...\n",
            "remote: Enumerating objects: 7, done.\u001b[K\n",
            "remote: Counting objects: 100% (7/7), done.\u001b[K\n",
            "remote: Compressing objects: 100% (7/7), done.\u001b[K\n",
            "remote: Total 7 (delta 0), reused 0 (delta 0), pack-reused 0\u001b[K\n",
            "Unpacking objects: 100% (7/7), done.\n"
          ],
          "name": "stdout"
        }
      ]
    },
    {
      "cell_type": "code",
      "metadata": {
        "id": "VsnkIWYLukVX",
        "colab_type": "code",
        "colab": {
          "base_uri": "https://localhost:8080/",
          "height": 35
        },
        "outputId": "f313f0f4-b948-43bb-d0fb-fd1d82504425"
      },
      "source": [
        "!ls"
      ],
      "execution_count": 2,
      "outputs": [
        {
          "output_type": "stream",
          "text": [
            "PSNR_AND_SSIM_DIRECT_CALCULATE_AND_PUT_IN_CSV_FILE  sample_data\n"
          ],
          "name": "stdout"
        }
      ]
    },
    {
      "cell_type": "code",
      "metadata": {
        "id": "tKuO2lmgvLJR",
        "colab_type": "code",
        "colab": {
          "base_uri": "https://localhost:8080/",
          "height": 35
        },
        "outputId": "4fff5126-cb7b-465b-d098-3a9145fe3eca"
      },
      "source": [
        "cd PSNR_AND_SSIM_DIRECT_CALCULATE_AND_PUT_IN_CSV_FILE"
      ],
      "execution_count": 3,
      "outputs": [
        {
          "output_type": "stream",
          "text": [
            "/content/PSNR_AND_SSIM_DIRECT_CALCULATE_AND_PUT_IN_CSV_FILE\n"
          ],
          "name": "stdout"
        }
      ]
    },
    {
      "cell_type": "code",
      "metadata": {
        "id": "DjkUMy1RvLMv",
        "colab_type": "code",
        "colab": {
          "base_uri": "https://localhost:8080/",
          "height": 35
        },
        "outputId": "eea3edaf-eb52-43db-bd97-247c36d56c5e"
      },
      "source": [
        "!ls"
      ],
      "execution_count": 4,
      "outputs": [
        {
          "output_type": "stream",
          "text": [
            "image_eval.py  orig.zip  recon.zip\n"
          ],
          "name": "stdout"
        }
      ]
    },
    {
      "cell_type": "code",
      "metadata": {
        "id": "URgimFrsvLQx",
        "colab_type": "code",
        "colab": {
          "base_uri": "https://localhost:8080/",
          "height": 125
        },
        "outputId": "a2157b20-0091-41ff-e017-46e7b990886c"
      },
      "source": [
        "!unzip orig.zip"
      ],
      "execution_count": 5,
      "outputs": [
        {
          "output_type": "stream",
          "text": [
            "Archive:  orig.zip\n",
            "   creating: orig/\n",
            "  inflating: orig/orig_0.bmp         \n",
            "  inflating: orig/orig_1.bmp         \n",
            "  inflating: orig/orig_2.bmp         \n",
            "  inflating: orig/orig_3.bmp         \n"
          ],
          "name": "stdout"
        }
      ]
    },
    {
      "cell_type": "code",
      "metadata": {
        "id": "-AVU3QyLvTmI",
        "colab_type": "code",
        "colab": {
          "base_uri": "https://localhost:8080/",
          "height": 125
        },
        "outputId": "9613721d-1e07-4a8f-a609-046e88f72445"
      },
      "source": [
        "!unzip recon.zip"
      ],
      "execution_count": 6,
      "outputs": [
        {
          "output_type": "stream",
          "text": [
            "Archive:  recon.zip\n",
            "   creating: recon/\n",
            "  inflating: recon/recon_0.bmp       \n",
            "  inflating: recon/recon_1.bmp       \n",
            "  inflating: recon/recon_2.bmp       \n",
            "  inflating: recon/recon_3.bmp       \n"
          ],
          "name": "stdout"
        }
      ]
    },
    {
      "cell_type": "code",
      "metadata": {
        "id": "UB4Snl2IvW35",
        "colab_type": "code",
        "colab": {
          "base_uri": "https://localhost:8080/",
          "height": 35
        },
        "outputId": "62d8cffa-1963-42b4-f241-b8d6ff60d6e7"
      },
      "source": [
        "!ls"
      ],
      "execution_count": 7,
      "outputs": [
        {
          "output_type": "stream",
          "text": [
            "image_eval.py  orig  orig.zip  recon  recon.zip\n"
          ],
          "name": "stdout"
        }
      ]
    },
    {
      "cell_type": "code",
      "metadata": {
        "id": "U1ezGXiCvaHJ",
        "colab_type": "code",
        "colab": {}
      },
      "source": [
        "!python image_eval.py"
      ],
      "execution_count": 0,
      "outputs": []
    },
    {
      "cell_type": "code",
      "metadata": {
        "id": "Fn0bRC6Lv0Zx",
        "colab_type": "code",
        "colab": {
          "base_uri": "https://localhost:8080/",
          "height": 35
        },
        "outputId": "f4586cd5-39dc-43d2-8a67-aafe5e2b9826"
      },
      "source": [
        "!ls"
      ],
      "execution_count": 9,
      "outputs": [
        {
          "output_type": "stream",
          "text": [
            "image_eval.py  orig  orig.zip  recon  recon.zip  result.csv\n"
          ],
          "name": "stdout"
        }
      ]
    },
    {
      "cell_type": "code",
      "metadata": {
        "id": "sV50No7gv2JQ",
        "colab_type": "code",
        "colab": {
          "base_uri": "https://localhost:8080/",
          "height": 107
        },
        "outputId": "c2ecb147-24cc-47bc-c901-3fc2d793a7b2"
      },
      "source": [
        "import pandas as pd\n",
        "df1 = pd.read_csv(\"result.csv\")\n",
        "print(df1)"
      ],
      "execution_count": 10,
      "outputs": [
        {
          "output_type": "stream",
          "text": [
            "   image_number       psnr      ssim\n",
            "0             0  28.099736  0.873799\n",
            "1             1  24.463570  0.734886\n",
            "2             2  30.127946  0.927451\n",
            "3             3  25.831666  0.762440\n"
          ],
          "name": "stdout"
        }
      ]
    },
    {
      "cell_type": "code",
      "metadata": {
        "id": "nlu7jBxEwPFI",
        "colab_type": "code",
        "colab": {}
      },
      "source": [
        ""
      ],
      "execution_count": 0,
      "outputs": []
    }
  ]
}